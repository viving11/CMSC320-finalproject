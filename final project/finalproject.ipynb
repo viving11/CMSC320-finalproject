{
 "cells": [
  {
   "cell_type": "markdown",
   "id": "cf39ad6c-7897-4211-9143-97d066d3d071",
   "metadata": {},
   "source": [
    "Final Project : S&P500 price prediction "
   ]
  },
  {
   "cell_type": "markdown",
   "id": "52cbaae5-32a0-4926-b0b6-55b448f25383",
   "metadata": {},
   "source": [
    "Vi Nguyen "
   ]
  },
  {
   "cell_type": "markdown",
   "id": "f7563a91-957e-404a-8e1f-e27391623787",
   "metadata": {},
   "source": [
    "The main purpose of this project is using the 2 models : Linear Regression and Random Forest to predict the stock price of the S&P500. The purpose is to compare the two models."
   ]
  },
  {
   "cell_type": "code",
   "execution_count": 1,
   "id": "5c880451-0925-4fdd-af02-9810e4384d44",
   "metadata": {},
   "outputs": [],
   "source": [
    "import pandas as pd\n",
    "import numpy as np\n",
    "import matplotlib.pyplot as plt"
   ]
  },
  {
   "cell_type": "code",
   "execution_count": 2,
   "id": "dd1a5b62-35f4-4822-a133-1c780e628d59",
   "metadata": {},
   "outputs": [
    {
     "data": {
      "text/html": [
       "<div>\n",
       "<style scoped>\n",
       "    .dataframe tbody tr th:only-of-type {\n",
       "        vertical-align: middle;\n",
       "    }\n",
       "\n",
       "    .dataframe tbody tr th {\n",
       "        vertical-align: top;\n",
       "    }\n",
       "\n",
       "    .dataframe thead th {\n",
       "        text-align: right;\n",
       "    }\n",
       "</style>\n",
       "<table border=\"1\" class=\"dataframe\">\n",
       "  <thead>\n",
       "    <tr style=\"text-align: right;\">\n",
       "      <th></th>\n",
       "      <th>Date</th>\n",
       "      <th>Open</th>\n",
       "      <th>High</th>\n",
       "      <th>Low</th>\n",
       "      <th>Close</th>\n",
       "      <th>Adj Close</th>\n",
       "      <th>Volume</th>\n",
       "    </tr>\n",
       "  </thead>\n",
       "  <tbody>\n",
       "    <tr>\n",
       "      <th>0</th>\n",
       "      <td>1927-12-30</td>\n",
       "      <td>17.660000</td>\n",
       "      <td>17.660000</td>\n",
       "      <td>17.660000</td>\n",
       "      <td>17.660000</td>\n",
       "      <td>17.660000</td>\n",
       "      <td>0</td>\n",
       "    </tr>\n",
       "    <tr>\n",
       "      <th>1</th>\n",
       "      <td>1928-01-03</td>\n",
       "      <td>17.760000</td>\n",
       "      <td>17.760000</td>\n",
       "      <td>17.760000</td>\n",
       "      <td>17.760000</td>\n",
       "      <td>17.760000</td>\n",
       "      <td>0</td>\n",
       "    </tr>\n",
       "    <tr>\n",
       "      <th>2</th>\n",
       "      <td>1928-01-04</td>\n",
       "      <td>17.719999</td>\n",
       "      <td>17.719999</td>\n",
       "      <td>17.719999</td>\n",
       "      <td>17.719999</td>\n",
       "      <td>17.719999</td>\n",
       "      <td>0</td>\n",
       "    </tr>\n",
       "    <tr>\n",
       "      <th>3</th>\n",
       "      <td>1928-01-05</td>\n",
       "      <td>17.549999</td>\n",
       "      <td>17.549999</td>\n",
       "      <td>17.549999</td>\n",
       "      <td>17.549999</td>\n",
       "      <td>17.549999</td>\n",
       "      <td>0</td>\n",
       "    </tr>\n",
       "    <tr>\n",
       "      <th>4</th>\n",
       "      <td>1928-01-06</td>\n",
       "      <td>17.660000</td>\n",
       "      <td>17.660000</td>\n",
       "      <td>17.660000</td>\n",
       "      <td>17.660000</td>\n",
       "      <td>17.660000</td>\n",
       "      <td>0</td>\n",
       "    </tr>\n",
       "    <tr>\n",
       "      <th>...</th>\n",
       "      <td>...</td>\n",
       "      <td>...</td>\n",
       "      <td>...</td>\n",
       "      <td>...</td>\n",
       "      <td>...</td>\n",
       "      <td>...</td>\n",
       "      <td>...</td>\n",
       "    </tr>\n",
       "    <tr>\n",
       "      <th>23318</th>\n",
       "      <td>2020-10-29</td>\n",
       "      <td>3277.169922</td>\n",
       "      <td>3341.050049</td>\n",
       "      <td>3259.820068</td>\n",
       "      <td>3310.110107</td>\n",
       "      <td>3310.110107</td>\n",
       "      <td>4903070000</td>\n",
       "    </tr>\n",
       "    <tr>\n",
       "      <th>23319</th>\n",
       "      <td>2020-10-30</td>\n",
       "      <td>3293.590088</td>\n",
       "      <td>3304.929932</td>\n",
       "      <td>3233.939941</td>\n",
       "      <td>3269.959961</td>\n",
       "      <td>3269.959961</td>\n",
       "      <td>4840450000</td>\n",
       "    </tr>\n",
       "    <tr>\n",
       "      <th>23320</th>\n",
       "      <td>2020-11-02</td>\n",
       "      <td>3296.199951</td>\n",
       "      <td>3330.139893</td>\n",
       "      <td>3279.739990</td>\n",
       "      <td>3310.239990</td>\n",
       "      <td>3310.239990</td>\n",
       "      <td>4310590000</td>\n",
       "    </tr>\n",
       "    <tr>\n",
       "      <th>23321</th>\n",
       "      <td>2020-11-03</td>\n",
       "      <td>3336.250000</td>\n",
       "      <td>3389.489990</td>\n",
       "      <td>3336.250000</td>\n",
       "      <td>3369.159912</td>\n",
       "      <td>3369.159912</td>\n",
       "      <td>4220070000</td>\n",
       "    </tr>\n",
       "    <tr>\n",
       "      <th>23322</th>\n",
       "      <td>2020-11-04</td>\n",
       "      <td>3406.459961</td>\n",
       "      <td>3486.250000</td>\n",
       "      <td>3405.169922</td>\n",
       "      <td>3443.439941</td>\n",
       "      <td>3443.439941</td>\n",
       "      <td>4783040000</td>\n",
       "    </tr>\n",
       "  </tbody>\n",
       "</table>\n",
       "<p>23323 rows × 7 columns</p>\n",
       "</div>"
      ],
      "text/plain": [
       "             Date         Open         High          Low        Close  \\\n",
       "0      1927-12-30    17.660000    17.660000    17.660000    17.660000   \n",
       "1      1928-01-03    17.760000    17.760000    17.760000    17.760000   \n",
       "2      1928-01-04    17.719999    17.719999    17.719999    17.719999   \n",
       "3      1928-01-05    17.549999    17.549999    17.549999    17.549999   \n",
       "4      1928-01-06    17.660000    17.660000    17.660000    17.660000   \n",
       "...           ...          ...          ...          ...          ...   \n",
       "23318  2020-10-29  3277.169922  3341.050049  3259.820068  3310.110107   \n",
       "23319  2020-10-30  3293.590088  3304.929932  3233.939941  3269.959961   \n",
       "23320  2020-11-02  3296.199951  3330.139893  3279.739990  3310.239990   \n",
       "23321  2020-11-03  3336.250000  3389.489990  3336.250000  3369.159912   \n",
       "23322  2020-11-04  3406.459961  3486.250000  3405.169922  3443.439941   \n",
       "\n",
       "         Adj Close      Volume  \n",
       "0        17.660000           0  \n",
       "1        17.760000           0  \n",
       "2        17.719999           0  \n",
       "3        17.549999           0  \n",
       "4        17.660000           0  \n",
       "...            ...         ...  \n",
       "23318  3310.110107  4903070000  \n",
       "23319  3269.959961  4840450000  \n",
       "23320  3310.239990  4310590000  \n",
       "23321  3369.159912  4220070000  \n",
       "23322  3443.439941  4783040000  \n",
       "\n",
       "[23323 rows x 7 columns]"
      ]
     },
     "execution_count": 2,
     "metadata": {},
     "output_type": "execute_result"
    }
   ],
   "source": [
    "data1 = pd.read_csv(\"SPX.csv\")\n",
    "df = pd.DataFrame(data1)\n",
    "df"
   ]
  },
  {
   "cell_type": "markdown",
   "id": "9c2fe192-2033-44af-bf81-8494bce38896",
   "metadata": {},
   "source": [
    "Date : the date of the record.\n",
    "Open: the opening price of the day(when trading starts).\n",
    "High : The highest trade price during the day.\n",
    "Low: The lowest trade price during the day.\n",
    "Close: The closing price for the day (when trading is finished).\n",
    "Volume: the number of shares traded.\n",
    "Adj close: the daily closing price, adjusted retroactively to include any corporate actions."
   ]
  },
  {
   "cell_type": "code",
   "execution_count": 3,
   "id": "eb13edb3-39a1-4cbc-b717-fdc0a650e868",
   "metadata": {},
   "outputs": [],
   "source": [
    "df1 = df.set_index(\"Date\")"
   ]
  },
  {
   "cell_type": "code",
   "execution_count": 4,
   "id": "74a70bc4-df68-4994-83b9-62fe10f64c6b",
   "metadata": {},
   "outputs": [
    {
     "data": {
      "text/plain": [
       "<Axes: xlabel='Date'>"
      ]
     },
     "execution_count": 4,
     "metadata": {},
     "output_type": "execute_result"
    },
    {
     "data": {
      "image/png": "[encoded data removed]",
      "text/plain": [
       "<Figure size 640x480 with 1 Axes>"
      ]
     },
     "metadata": {},
     "output_type": "display_data"
    }
   ],
   "source": [
    "df1.plot.line(y = \"Volume\", use_index = True)"
   ]
  },
  {
   "cell_type": "code",
   "execution_count": 5,
   "id": "44fee7c6-aebd-4e7b-8da9-51c948786969",
   "metadata": {},
   "outputs": [
    {
     "data": {
      "text/plain": [
       "<Axes: xlabel='Date'>"
      ]
     },
     "execution_count": 5,
     "metadata": {},
     "output_type": "execute_result"
    },
    {
     "data": {
      "image/png": "[encoded data removed]",
      "text/plain": [
       "<Figure size 640x480 with 1 Axes>"
      ]
     },
     "metadata": {},
     "output_type": "display_data"
    }
   ],
   "source": [
    "df1.plot.line(y = \"Close\", use_index = True)"
   ]
  },
  {
   "cell_type": "code",
   "execution_count": null,
   "id": "06d63884-a60e-470e-ae72-c748243f80c3",
   "metadata": {},
   "outputs": [],
   "source": [
    "we can see from the two plots that the volume of share traded is kind of related to the closing price goes up ot down."
   ]
  },
  {
   "cell_type": "markdown",
   "id": "63bde7fe-2958-4684-b857-e46b6ff8c960",
   "metadata": {},
   "source": [
    "Now lets see if we can predict the price goes up when it actually goes up"
   ]
  },
  {
   "cell_type": "code",
   "execution_count": 6,
   "id": "ccb8fa92-2267-4fa6-9fa2-4c4c00c13913",
   "metadata": {},
   "outputs": [
    {
     "data": {
      "text/html": [
       "<div>\n",
       "<style scoped>\n",
       "    .dataframe tbody tr th:only-of-type {\n",
       "        vertical-align: middle;\n",
       "    }\n",
       "\n",
       "    .dataframe tbody tr th {\n",
       "        vertical-align: top;\n",
       "    }\n",
       "\n",
       "    .dataframe thead th {\n",
       "        text-align: right;\n",
       "    }\n",
       "</style>\n",
       "<table border=\"1\" class=\"dataframe\">\n",
       "  <thead>\n",
       "    <tr style=\"text-align: right;\">\n",
       "      <th></th>\n",
       "      <th>Open</th>\n",
       "      <th>High</th>\n",
       "      <th>Low</th>\n",
       "      <th>Close</th>\n",
       "      <th>Adj Close</th>\n",
       "      <th>Volume</th>\n",
       "      <th>Tomorrow</th>\n",
       "    </tr>\n",
       "    <tr>\n",
       "      <th>Date</th>\n",
       "      <th></th>\n",
       "      <th></th>\n",
       "      <th></th>\n",
       "      <th></th>\n",
       "      <th></th>\n",
       "      <th></th>\n",
       "      <th></th>\n",
       "    </tr>\n",
       "  </thead>\n",
       "  <tbody>\n",
       "    <tr>\n",
       "      <th>1927-12-30</th>\n",
       "      <td>17.660000</td>\n",
       "      <td>17.660000</td>\n",
       "      <td>17.660000</td>\n",
       "      <td>17.660000</td>\n",
       "      <td>17.660000</td>\n",
       "      <td>0</td>\n",
       "      <td>17.760000</td>\n",
       "    </tr>\n",
       "    <tr>\n",
       "      <th>1928-01-03</th>\n",
       "      <td>17.760000</td>\n",
       "      <td>17.760000</td>\n",
       "      <td>17.760000</td>\n",
       "      <td>17.760000</td>\n",
       "      <td>17.760000</td>\n",
       "      <td>0</td>\n",
       "      <td>17.719999</td>\n",
       "    </tr>\n",
       "    <tr>\n",
       "      <th>1928-01-04</th>\n",
       "      <td>17.719999</td>\n",
       "      <td>17.719999</td>\n",
       "      <td>17.719999</td>\n",
       "      <td>17.719999</td>\n",
       "      <td>17.719999</td>\n",
       "      <td>0</td>\n",
       "      <td>17.549999</td>\n",
       "    </tr>\n",
       "    <tr>\n",
       "      <th>1928-01-05</th>\n",
       "      <td>17.549999</td>\n",
       "      <td>17.549999</td>\n",
       "      <td>17.549999</td>\n",
       "      <td>17.549999</td>\n",
       "      <td>17.549999</td>\n",
       "      <td>0</td>\n",
       "      <td>17.660000</td>\n",
       "    </tr>\n",
       "    <tr>\n",
       "      <th>1928-01-06</th>\n",
       "      <td>17.660000</td>\n",
       "      <td>17.660000</td>\n",
       "      <td>17.660000</td>\n",
       "      <td>17.660000</td>\n",
       "      <td>17.660000</td>\n",
       "      <td>0</td>\n",
       "      <td>17.500000</td>\n",
       "    </tr>\n",
       "    <tr>\n",
       "      <th>...</th>\n",
       "      <td>...</td>\n",
       "      <td>...</td>\n",
       "      <td>...</td>\n",
       "      <td>...</td>\n",
       "      <td>...</td>\n",
       "      <td>...</td>\n",
       "      <td>...</td>\n",
       "    </tr>\n",
       "    <tr>\n",
       "      <th>2020-10-29</th>\n",
       "      <td>3277.169922</td>\n",
       "      <td>3341.050049</td>\n",
       "      <td>3259.820068</td>\n",
       "      <td>3310.110107</td>\n",
       "      <td>3310.110107</td>\n",
       "      <td>4903070000</td>\n",
       "      <td>3269.959961</td>\n",
       "    </tr>\n",
       "    <tr>\n",
       "      <th>2020-10-30</th>\n",
       "      <td>3293.590088</td>\n",
       "      <td>3304.929932</td>\n",
       "      <td>3233.939941</td>\n",
       "      <td>3269.959961</td>\n",
       "      <td>3269.959961</td>\n",
       "      <td>4840450000</td>\n",
       "      <td>3310.239990</td>\n",
       "    </tr>\n",
       "    <tr>\n",
       "      <th>2020-11-02</th>\n",
       "      <td>3296.199951</td>\n",
       "      <td>3330.139893</td>\n",
       "      <td>3279.739990</td>\n",
       "      <td>3310.239990</td>\n",
       "      <td>3310.239990</td>\n",
       "      <td>4310590000</td>\n",
       "      <td>3369.159912</td>\n",
       "    </tr>\n",
       "    <tr>\n",
       "      <th>2020-11-03</th>\n",
       "      <td>3336.250000</td>\n",
       "      <td>3389.489990</td>\n",
       "      <td>3336.250000</td>\n",
       "      <td>3369.159912</td>\n",
       "      <td>3369.159912</td>\n",
       "      <td>4220070000</td>\n",
       "      <td>3443.439941</td>\n",
       "    </tr>\n",
       "    <tr>\n",
       "      <th>2020-11-04</th>\n",
       "      <td>3406.459961</td>\n",
       "      <td>3486.250000</td>\n",
       "      <td>3405.169922</td>\n",
       "      <td>3443.439941</td>\n",
       "      <td>3443.439941</td>\n",
       "      <td>4783040000</td>\n",
       "      <td>NaN</td>\n",
       "    </tr>\n",
       "  </tbody>\n",
       "</table>\n",
       "<p>23323 rows × 7 columns</p>\n",
       "</div>"
      ],
      "text/plain": [
       "                   Open         High          Low        Close    Adj Close  \\\n",
       "Date                                                                          \n",
       "1927-12-30    17.660000    17.660000    17.660000    17.660000    17.660000   \n",
       "1928-01-03    17.760000    17.760000    17.760000    17.760000    17.760000   \n",
       "1928-01-04    17.719999    17.719999    17.719999    17.719999    17.719999   \n",
       "1928-01-05    17.549999    17.549999    17.549999    17.549999    17.549999   \n",
       "1928-01-06    17.660000    17.660000    17.660000    17.660000    17.660000   \n",
       "...                 ...          ...          ...          ...          ...   \n",
       "2020-10-29  3277.169922  3341.050049  3259.820068  3310.110107  3310.110107   \n",
       "2020-10-30  3293.590088  3304.929932  3233.939941  3269.959961  3269.959961   \n",
       "2020-11-02  3296.199951  3330.139893  3279.739990  3310.239990  3310.239990   \n",
       "2020-11-03  3336.250000  3389.489990  3336.250000  3369.159912  3369.159912   \n",
       "2020-11-04  3406.459961  3486.250000  3405.169922  3443.439941  3443.439941   \n",
       "\n",
       "                Volume     Tomorrow  \n",
       "Date                                 \n",
       "1927-12-30           0    17.760000  \n",
       "1928-01-03           0    17.719999  \n",
       "1928-01-04           0    17.549999  \n",
       "1928-01-05           0    17.660000  \n",
       "1928-01-06           0    17.500000  \n",
       "...                ...          ...  \n",
       "2020-10-29  4903070000  3269.959961  \n",
       "2020-10-30  4840450000  3310.239990  \n",
       "2020-11-02  4310590000  3369.159912  \n",
       "2020-11-03  4220070000  3443.439941  \n",
       "2020-11-04  4783040000          NaN  \n",
       "\n",
       "[23323 rows x 7 columns]"
      ]
     },
     "execution_count": 6,
     "metadata": {},
     "output_type": "execute_result"
    }
   ],
   "source": [
    "df1[\"Tomorrow\"] = df1[\"Close\"].shift(-1)\n",
    "df1"
   ]
  },
  {
   "cell_type": "code",
   "execution_count": 7,
   "id": "35ef8f46-1fd1-4077-8c44-4566dcb35b37",
   "metadata": {},
   "outputs": [
    {
     "data": {
      "text/html": [
       "<div>\n",
       "<style scoped>\n",
       "    .dataframe tbody tr th:only-of-type {\n",
       "        vertical-align: middle;\n",
       "    }\n",
       "\n",
       "    .dataframe tbody tr th {\n",
       "        vertical-align: top;\n",
       "    }\n",
       "\n",
       "    .dataframe thead th {\n",
       "        text-align: right;\n",
       "    }\n",
       "</style>\n",
       "<table border=\"1\" class=\"dataframe\">\n",
       "  <thead>\n",
       "    <tr style=\"text-align: right;\">\n",
       "      <th></th>\n",
       "      <th>Open</th>\n",
       "      <th>High</th>\n",
       "      <th>Low</th>\n",
       "      <th>Close</th>\n",
       "      <th>Adj Close</th>\n",
       "      <th>Volume</th>\n",
       "      <th>Tomorrow</th>\n",
       "      <th>Target</th>\n",
       "    </tr>\n",
       "    <tr>\n",
       "      <th>Date</th>\n",
       "      <th></th>\n",
       "      <th></th>\n",
       "      <th></th>\n",
       "      <th></th>\n",
       "      <th></th>\n",
       "      <th></th>\n",
       "      <th></th>\n",
       "      <th></th>\n",
       "    </tr>\n",
       "  </thead>\n",
       "  <tbody>\n",
       "    <tr>\n",
       "      <th>1927-12-30</th>\n",
       "      <td>17.660000</td>\n",
       "      <td>17.660000</td>\n",
       "      <td>17.660000</td>\n",
       "      <td>17.660000</td>\n",
       "      <td>17.660000</td>\n",
       "      <td>0</td>\n",
       "      <td>17.760000</td>\n",
       "      <td>1</td>\n",
       "    </tr>\n",
       "    <tr>\n",
       "      <th>1928-01-03</th>\n",
       "      <td>17.760000</td>\n",
       "      <td>17.760000</td>\n",
       "      <td>17.760000</td>\n",
       "      <td>17.760000</td>\n",
       "      <td>17.760000</td>\n",
       "      <td>0</td>\n",
       "      <td>17.719999</td>\n",
       "      <td>0</td>\n",
       "    </tr>\n",
       "    <tr>\n",
       "      <th>1928-01-04</th>\n",
       "      <td>17.719999</td>\n",
       "      <td>17.719999</td>\n",
       "      <td>17.719999</td>\n",
       "      <td>17.719999</td>\n",
       "      <td>17.719999</td>\n",
       "      <td>0</td>\n",
       "      <td>17.549999</td>\n",
       "      <td>0</td>\n",
       "    </tr>\n",
       "    <tr>\n",
       "      <th>1928-01-05</th>\n",
       "      <td>17.549999</td>\n",
       "      <td>17.549999</td>\n",
       "      <td>17.549999</td>\n",
       "      <td>17.549999</td>\n",
       "      <td>17.549999</td>\n",
       "      <td>0</td>\n",
       "      <td>17.660000</td>\n",
       "      <td>1</td>\n",
       "    </tr>\n",
       "    <tr>\n",
       "      <th>1928-01-06</th>\n",
       "      <td>17.660000</td>\n",
       "      <td>17.660000</td>\n",
       "      <td>17.660000</td>\n",
       "      <td>17.660000</td>\n",
       "      <td>17.660000</td>\n",
       "      <td>0</td>\n",
       "      <td>17.500000</td>\n",
       "      <td>0</td>\n",
       "    </tr>\n",
       "    <tr>\n",
       "      <th>...</th>\n",
       "      <td>...</td>\n",
       "      <td>...</td>\n",
       "      <td>...</td>\n",
       "      <td>...</td>\n",
       "      <td>...</td>\n",
       "      <td>...</td>\n",
       "      <td>...</td>\n",
       "      <td>...</td>\n",
       "    </tr>\n",
       "    <tr>\n",
       "      <th>2020-10-29</th>\n",
       "      <td>3277.169922</td>\n",
       "      <td>3341.050049</td>\n",
       "      <td>3259.820068</td>\n",
       "      <td>3310.110107</td>\n",
       "      <td>3310.110107</td>\n",
       "      <td>4903070000</td>\n",
       "      <td>3269.959961</td>\n",
       "      <td>0</td>\n",
       "    </tr>\n",
       "    <tr>\n",
       "      <th>2020-10-30</th>\n",
       "      <td>3293.590088</td>\n",
       "      <td>3304.929932</td>\n",
       "      <td>3233.939941</td>\n",
       "      <td>3269.959961</td>\n",
       "      <td>3269.959961</td>\n",
       "      <td>4840450000</td>\n",
       "      <td>3310.239990</td>\n",
       "      <td>1</td>\n",
       "    </tr>\n",
       "    <tr>\n",
       "      <th>2020-11-02</th>\n",
       "      <td>3296.199951</td>\n",
       "      <td>3330.139893</td>\n",
       "      <td>3279.739990</td>\n",
       "      <td>3310.239990</td>\n",
       "      <td>3310.239990</td>\n",
       "      <td>4310590000</td>\n",
       "      <td>3369.159912</td>\n",
       "      <td>1</td>\n",
       "    </tr>\n",
       "    <tr>\n",
       "      <th>2020-11-03</th>\n",
       "      <td>3336.250000</td>\n",
       "      <td>3389.489990</td>\n",
       "      <td>3336.250000</td>\n",
       "      <td>3369.159912</td>\n",
       "      <td>3369.159912</td>\n",
       "      <td>4220070000</td>\n",
       "      <td>3443.439941</td>\n",
       "      <td>1</td>\n",
       "    </tr>\n",
       "    <tr>\n",
       "      <th>2020-11-04</th>\n",
       "      <td>3406.459961</td>\n",
       "      <td>3486.250000</td>\n",
       "      <td>3405.169922</td>\n",
       "      <td>3443.439941</td>\n",
       "      <td>3443.439941</td>\n",
       "      <td>4783040000</td>\n",
       "      <td>NaN</td>\n",
       "      <td>0</td>\n",
       "    </tr>\n",
       "  </tbody>\n",
       "</table>\n",
       "<p>23323 rows × 8 columns</p>\n",
       "</div>"
      ],
      "text/plain": [
       "                   Open         High          Low        Close    Adj Close  \\\n",
       "Date                                                                          \n",
       "1927-12-30    17.660000    17.660000    17.660000    17.660000    17.660000   \n",
       "1928-01-03    17.760000    17.760000    17.760000    17.760000    17.760000   \n",
       "1928-01-04    17.719999    17.719999    17.719999    17.719999    17.719999   \n",
       "1928-01-05    17.549999    17.549999    17.549999    17.549999    17.549999   \n",
       "1928-01-06    17.660000    17.660000    17.660000    17.660000    17.660000   \n",
       "...                 ...          ...          ...          ...          ...   \n",
       "2020-10-29  3277.169922  3341.050049  3259.820068  3310.110107  3310.110107   \n",
       "2020-10-30  3293.590088  3304.929932  3233.939941  3269.959961  3269.959961   \n",
       "2020-11-02  3296.199951  3330.139893  3279.739990  3310.239990  3310.239990   \n",
       "2020-11-03  3336.250000  3389.489990  3336.250000  3369.159912  3369.159912   \n",
       "2020-11-04  3406.459961  3486.250000  3405.169922  3443.439941  3443.439941   \n",
       "\n",
       "                Volume     Tomorrow  Target  \n",
       "Date                                         \n",
       "1927-12-30           0    17.760000       1  \n",
       "1928-01-03           0    17.719999       0  \n",
       "1928-01-04           0    17.549999       0  \n",
       "1928-01-05           0    17.660000       1  \n",
       "1928-01-06           0    17.500000       0  \n",
       "...                ...          ...     ...  \n",
       "2020-10-29  4903070000  3269.959961       0  \n",
       "2020-10-30  4840450000  3310.239990       1  \n",
       "2020-11-02  4310590000  3369.159912       1  \n",
       "2020-11-03  4220070000  3443.439941       1  \n",
       "2020-11-04  4783040000          NaN       0  \n",
       "\n",
       "[23323 rows x 8 columns]"
      ]
     },
     "execution_count": 7,
     "metadata": {},
     "output_type": "execute_result"
    }
   ],
   "source": [
    "df1[\"Target\"] = (df1[\"Tomorrow\"] > df1[\"Close\"]).astype(int)\n",
    "df1"
   ]
  },
  {
   "cell_type": "markdown",
   "id": "442e283a-2144-4e91-9109-2f4b3b99d210",
   "metadata": {},
   "source": [
    "The TARGET column has 0 and 1 values, in which 1 indicated the price goes up and 0 is when the price goes down."
   ]
  },
  {
   "cell_type": "markdown",
   "id": "edbd7b7b-1e4a-44f6-bacc-5a785eb283f6",
   "metadata": {},
   "source": [
    "Now we will remove the data that are too far back because the market may have shift fundamentally and not very useful when it comes to prediction. "
   ]
  },
  {
   "cell_type": "code",
   "execution_count": 8,
   "id": "2ae558b7-e598-4a7a-856b-772ee0a8bcb7",
   "metadata": {},
   "outputs": [
    {
     "name": "stdout",
     "output_type": "stream",
     "text": [
      "<class 'pandas.core.frame.DataFrame'>\n",
      "Index: 23323 entries, 1927-12-30 to 2020-11-04\n",
      "Data columns (total 8 columns):\n",
      " #   Column     Non-Null Count  Dtype  \n",
      "---  ------     --------------  -----  \n",
      " 0   Open       23323 non-null  float64\n",
      " 1   High       23323 non-null  float64\n",
      " 2   Low        23323 non-null  float64\n",
      " 3   Close      23323 non-null  float64\n",
      " 4   Adj Close  23323 non-null  float64\n",
      " 5   Volume     23323 non-null  int64  \n",
      " 6   Tomorrow   23322 non-null  float64\n",
      " 7   Target     23323 non-null  int64  \n",
      "dtypes: float64(6), int64(2)\n",
      "memory usage: 1.6+ MB\n"
     ]
    }
   ],
   "source": [
    "df1.info(verbose = True)\n"
   ]
  },
  {
   "cell_type": "code",
   "execution_count": 9,
   "id": "af2fe5f6-012a-4b6b-b3f2-a61b62aae69b",
   "metadata": {},
   "outputs": [],
   "source": [
    "df1 = df1.loc[\"1990-01-01\":].copy()"
   ]
  },
  {
   "cell_type": "code",
   "execution_count": 10,
   "id": "1c066ab1-4e51-450b-9d98-94c760b92eea",
   "metadata": {},
   "outputs": [
    {
     "data": {
      "text/html": [
       "<div>\n",
       "<style scoped>\n",
       "    .dataframe tbody tr th:only-of-type {\n",
       "        vertical-align: middle;\n",
       "    }\n",
       "\n",
       "    .dataframe tbody tr th {\n",
       "        vertical-align: top;\n",
       "    }\n",
       "\n",
       "    .dataframe thead th {\n",
       "        text-align: right;\n",
       "    }\n",
       "</style>\n",
       "<table border=\"1\" class=\"dataframe\">\n",
       "  <thead>\n",
       "    <tr style=\"text-align: right;\">\n",
       "      <th></th>\n",
       "      <th>Open</th>\n",
       "      <th>High</th>\n",
       "      <th>Low</th>\n",
       "      <th>Close</th>\n",
       "      <th>Adj Close</th>\n",
       "      <th>Volume</th>\n",
       "      <th>Tomorrow</th>\n",
       "      <th>Target</th>\n",
       "    </tr>\n",
       "    <tr>\n",
       "      <th>Date</th>\n",
       "      <th></th>\n",
       "      <th></th>\n",
       "      <th></th>\n",
       "      <th></th>\n",
       "      <th></th>\n",
       "      <th></th>\n",
       "      <th></th>\n",
       "      <th></th>\n",
       "    </tr>\n",
       "  </thead>\n",
       "  <tbody>\n",
       "    <tr>\n",
       "      <th>1990-01-02</th>\n",
       "      <td>353.399994</td>\n",
       "      <td>359.690002</td>\n",
       "      <td>351.980011</td>\n",
       "      <td>359.690002</td>\n",
       "      <td>359.690002</td>\n",
       "      <td>162070000</td>\n",
       "      <td>358.760010</td>\n",
       "      <td>0</td>\n",
       "    </tr>\n",
       "    <tr>\n",
       "      <th>1990-01-03</th>\n",
       "      <td>359.690002</td>\n",
       "      <td>360.589996</td>\n",
       "      <td>357.890015</td>\n",
       "      <td>358.760010</td>\n",
       "      <td>358.760010</td>\n",
       "      <td>192330000</td>\n",
       "      <td>355.670013</td>\n",
       "      <td>0</td>\n",
       "    </tr>\n",
       "    <tr>\n",
       "      <th>1990-01-04</th>\n",
       "      <td>358.760010</td>\n",
       "      <td>358.760010</td>\n",
       "      <td>352.890015</td>\n",
       "      <td>355.670013</td>\n",
       "      <td>355.670013</td>\n",
       "      <td>177000000</td>\n",
       "      <td>352.200012</td>\n",
       "      <td>0</td>\n",
       "    </tr>\n",
       "    <tr>\n",
       "      <th>1990-01-05</th>\n",
       "      <td>355.670013</td>\n",
       "      <td>355.670013</td>\n",
       "      <td>351.350006</td>\n",
       "      <td>352.200012</td>\n",
       "      <td>352.200012</td>\n",
       "      <td>158530000</td>\n",
       "      <td>353.790009</td>\n",
       "      <td>1</td>\n",
       "    </tr>\n",
       "    <tr>\n",
       "      <th>1990-01-08</th>\n",
       "      <td>352.200012</td>\n",
       "      <td>354.239990</td>\n",
       "      <td>350.540009</td>\n",
       "      <td>353.790009</td>\n",
       "      <td>353.790009</td>\n",
       "      <td>140110000</td>\n",
       "      <td>349.619995</td>\n",
       "      <td>0</td>\n",
       "    </tr>\n",
       "    <tr>\n",
       "      <th>...</th>\n",
       "      <td>...</td>\n",
       "      <td>...</td>\n",
       "      <td>...</td>\n",
       "      <td>...</td>\n",
       "      <td>...</td>\n",
       "      <td>...</td>\n",
       "      <td>...</td>\n",
       "      <td>...</td>\n",
       "    </tr>\n",
       "    <tr>\n",
       "      <th>2020-10-29</th>\n",
       "      <td>3277.169922</td>\n",
       "      <td>3341.050049</td>\n",
       "      <td>3259.820068</td>\n",
       "      <td>3310.110107</td>\n",
       "      <td>3310.110107</td>\n",
       "      <td>4903070000</td>\n",
       "      <td>3269.959961</td>\n",
       "      <td>0</td>\n",
       "    </tr>\n",
       "    <tr>\n",
       "      <th>2020-10-30</th>\n",
       "      <td>3293.590088</td>\n",
       "      <td>3304.929932</td>\n",
       "      <td>3233.939941</td>\n",
       "      <td>3269.959961</td>\n",
       "      <td>3269.959961</td>\n",
       "      <td>4840450000</td>\n",
       "      <td>3310.239990</td>\n",
       "      <td>1</td>\n",
       "    </tr>\n",
       "    <tr>\n",
       "      <th>2020-11-02</th>\n",
       "      <td>3296.199951</td>\n",
       "      <td>3330.139893</td>\n",
       "      <td>3279.739990</td>\n",
       "      <td>3310.239990</td>\n",
       "      <td>3310.239990</td>\n",
       "      <td>4310590000</td>\n",
       "      <td>3369.159912</td>\n",
       "      <td>1</td>\n",
       "    </tr>\n",
       "    <tr>\n",
       "      <th>2020-11-03</th>\n",
       "      <td>3336.250000</td>\n",
       "      <td>3389.489990</td>\n",
       "      <td>3336.250000</td>\n",
       "      <td>3369.159912</td>\n",
       "      <td>3369.159912</td>\n",
       "      <td>4220070000</td>\n",
       "      <td>3443.439941</td>\n",
       "      <td>1</td>\n",
       "    </tr>\n",
       "    <tr>\n",
       "      <th>2020-11-04</th>\n",
       "      <td>3406.459961</td>\n",
       "      <td>3486.250000</td>\n",
       "      <td>3405.169922</td>\n",
       "      <td>3443.439941</td>\n",
       "      <td>3443.439941</td>\n",
       "      <td>4783040000</td>\n",
       "      <td>NaN</td>\n",
       "      <td>0</td>\n",
       "    </tr>\n",
       "  </tbody>\n",
       "</table>\n",
       "<p>7773 rows × 8 columns</p>\n",
       "</div>"
      ],
      "text/plain": [
       "                   Open         High          Low        Close    Adj Close  \\\n",
       "Date                                                                          \n",
       "1990-01-02   353.399994   359.690002   351.980011   359.690002   359.690002   \n",
       "1990-01-03   359.690002   360.589996   357.890015   358.760010   358.760010   \n",
       "1990-01-04   358.760010   358.760010   352.890015   355.670013   355.670013   \n",
       "1990-01-05   355.670013   355.670013   351.350006   352.200012   352.200012   \n",
       "1990-01-08   352.200012   354.239990   350.540009   353.790009   353.790009   \n",
       "...                 ...          ...          ...          ...          ...   \n",
       "2020-10-29  3277.169922  3341.050049  3259.820068  3310.110107  3310.110107   \n",
       "2020-10-30  3293.590088  3304.929932  3233.939941  3269.959961  3269.959961   \n",
       "2020-11-02  3296.199951  3330.139893  3279.739990  3310.239990  3310.239990   \n",
       "2020-11-03  3336.250000  3389.489990  3336.250000  3369.159912  3369.159912   \n",
       "2020-11-04  3406.459961  3486.250000  3405.169922  3443.439941  3443.439941   \n",
       "\n",
       "                Volume     Tomorrow  Target  \n",
       "Date                                         \n",
       "1990-01-02   162070000   358.760010       0  \n",
       "1990-01-03   192330000   355.670013       0  \n",
       "1990-01-04   177000000   352.200012       0  \n",
       "1990-01-05   158530000   353.790009       1  \n",
       "1990-01-08   140110000   349.619995       0  \n",
       "...                ...          ...     ...  \n",
       "2020-10-29  4903070000  3269.959961       0  \n",
       "2020-10-30  4840450000  3310.239990       1  \n",
       "2020-11-02  4310590000  3369.159912       1  \n",
       "2020-11-03  4220070000  3443.439941       1  \n",
       "2020-11-04  4783040000          NaN       0  \n",
       "\n",
       "[7773 rows x 8 columns]"
      ]
     },
     "execution_count": 10,
     "metadata": {},
     "output_type": "execute_result"
    }
   ],
   "source": [
    "df1"
   ]
  },
  {
   "cell_type": "code",
   "execution_count": 11,
   "id": "b38ac380-cfde-414e-a959-8cce4291b744",
   "metadata": {},
   "outputs": [
    {
     "data": {
      "text/plain": [
       "Open         0\n",
       "High         0\n",
       "Low          0\n",
       "Close        0\n",
       "Adj Close    0\n",
       "Volume       0\n",
       "Tomorrow     1\n",
       "Target       0\n",
       "dtype: int64"
      ]
     },
     "execution_count": 11,
     "metadata": {},
     "output_type": "execute_result"
    }
   ],
   "source": [
    "df1.isna().sum()"
   ]
  },
  {
   "cell_type": "code",
   "execution_count": 25,
   "id": "a35771ce-119c-4023-999f-97068b97ef9c",
   "metadata": {},
   "outputs": [
    {
     "data": {
      "text/html": [
       "<style>#sk-container-id-3 {color: black;}#sk-container-id-3 pre{padding: 0;}#sk-container-id-3 div.sk-toggleable {background-color: white;}#sk-container-id-3 label.sk-toggleable__label {cursor: pointer;display: block;width: 100%;margin-bottom: 0;padding: 0.3em;box-sizing: border-box;text-align: center;}#sk-container-id-3 label.sk-toggleable__label-arrow:before {content: \"▸\";float: left;margin-right: 0.25em;color: #696969;}#sk-container-id-3 label.sk-toggleable__label-arrow:hover:before {color: black;}#sk-container-id-3 div.sk-estimator:hover label.sk-toggleable__label-arrow:before {color: black;}#sk-container-id-3 div.sk-toggleable__content {max-height: 0;max-width: 0;overflow: hidden;text-align: left;background-color: #f0f8ff;}#sk-container-id-3 div.sk-toggleable__content pre {margin: 0.2em;color: black;border-radius: 0.25em;background-color: #f0f8ff;}#sk-container-id-3 input.sk-toggleable__control:checked~div.sk-toggleable__content {max-height: 200px;max-width: 100%;overflow: auto;}#sk-container-id-3 input.sk-toggleable__control:checked~label.sk-toggleable__label-arrow:before {content: \"▾\";}#sk-container-id-3 div.sk-estimator input.sk-toggleable__control:checked~label.sk-toggleable__label {background-color: #d4ebff;}#sk-container-id-3 div.sk-label input.sk-toggleable__control:checked~label.sk-toggleable__label {background-color: #d4ebff;}#sk-container-id-3 input.sk-hidden--visually {border: 0;clip: rect(1px 1px 1px 1px);clip: rect(1px, 1px, 1px, 1px);height: 1px;margin: -1px;overflow: hidden;padding: 0;position: absolute;width: 1px;}#sk-container-id-3 div.sk-estimator {font-family: monospace;background-color: #f0f8ff;border: 1px dotted black;border-radius: 0.25em;box-sizing: border-box;margin-bottom: 0.5em;}#sk-container-id-3 div.sk-estimator:hover {background-color: #d4ebff;}#sk-container-id-3 div.sk-parallel-item::after {content: \"\";width: 100%;border-bottom: 1px solid gray;flex-grow: 1;}#sk-container-id-3 div.sk-label:hover label.sk-toggleable__label {background-color: #d4ebff;}#sk-container-id-3 div.sk-serial::before {content: \"\";position: absolute;border-left: 1px solid gray;box-sizing: border-box;top: 0;bottom: 0;left: 50%;z-index: 0;}#sk-container-id-3 div.sk-serial {display: flex;flex-direction: column;align-items: center;background-color: white;padding-right: 0.2em;padding-left: 0.2em;position: relative;}#sk-container-id-3 div.sk-item {position: relative;z-index: 1;}#sk-container-id-3 div.sk-parallel {display: flex;align-items: stretch;justify-content: center;background-color: white;position: relative;}#sk-container-id-3 div.sk-item::before, #sk-container-id-3 div.sk-parallel-item::before {content: \"\";position: absolute;border-left: 1px solid gray;box-sizing: border-box;top: 0;bottom: 0;left: 50%;z-index: -1;}#sk-container-id-3 div.sk-parallel-item {display: flex;flex-direction: column;z-index: 1;position: relative;background-color: white;}#sk-container-id-3 div.sk-parallel-item:first-child::after {align-self: flex-end;width: 50%;}#sk-container-id-3 div.sk-parallel-item:last-child::after {align-self: flex-start;width: 50%;}#sk-container-id-3 div.sk-parallel-item:only-child::after {width: 0;}#sk-container-id-3 div.sk-dashed-wrapped {border: 1px dashed gray;margin: 0 0.4em 0.5em 0.4em;box-sizing: border-box;padding-bottom: 0.4em;background-color: white;}#sk-container-id-3 div.sk-label label {font-family: monospace;font-weight: bold;display: inline-block;line-height: 1.2em;}#sk-container-id-3 div.sk-label-container {text-align: center;}#sk-container-id-3 div.sk-container {/* jupyter's `normalize.less` sets `[hidden] { display: none; }` but bootstrap.min.css set `[hidden] { display: none !important; }` so we also need the `!important` here to be able to override the default hidden behavior on the sphinx rendered scikit-learn.org. See: https://github.com/scikit-learn/scikit-learn/issues/21755 */display: inline-block !important;position: relative;}#sk-container-id-3 div.sk-text-repr-fallback {display: none;}</style><div id=\"sk-container-id-3\" class=\"sk-top-container\"><div class=\"sk-text-repr-fallback\"><pre>RandomForestClassifier(min_samples_split=100, n_estimators=400, random_state=1)</pre><b>In a Jupyter environment, please rerun this cell to show the HTML representation or trust the notebook. <br />On GitHub, the HTML representation is unable to render, please try loading this page with nbviewer.org.</b></div><div class=\"sk-container\" hidden><div class=\"sk-item\"><div class=\"sk-estimator sk-toggleable\"><input class=\"sk-toggleable__control sk-hidden--visually\" id=\"sk-estimator-id-3\" type=\"checkbox\" checked><label for=\"sk-estimator-id-3\" class=\"sk-toggleable__label sk-toggleable__label-arrow\">RandomForestClassifier</label><div class=\"sk-toggleable__content\"><pre>RandomForestClassifier(min_samples_split=100, n_estimators=400, random_state=1)</pre></div></div></div></div></div>"
      ],
      "text/plain": [
       "RandomForestClassifier(min_samples_split=100, n_estimators=400, random_state=1)"
      ]
     },
     "execution_count": 25,
     "metadata": {},
     "output_type": "execute_result"
    }
   ],
   "source": [
    "#RF model \n",
    "from sklearn.ensemble import RandomForestClassifier\n",
    "\n",
    "model = RandomForestClassifier(n_estimators = 400, min_samples_split = 100, random_state = 1)\n",
    "train = df1.iloc[:-100] #first 100 rows for training\n",
    "test = df1.iloc[-100:] #last 100 rows for testing\n",
    "\n",
    "predictors = [\"Close\", \"Volume\", \"Open\", \"High\", \"Low\"]\n",
    "model.fit(train[predictors], train[\"Target\"])"
   ]
  },
  {
   "cell_type": "markdown",
   "id": "5ac25467-f265-4382-bc28-218a0e2be6d8",
   "metadata": {},
   "source": [
    "Random Forest works by randomizing parameters and use them to train a lot of individual decision tree and then average the results from the decision tree. It is harder for Random Forest to overfit than the other models. min_samples_split helps with overfitting. The higher we set the min_sample_split the less accurate it will be but it keep us from overfiting. "
   ]
  },
  {
   "cell_type": "code",
   "execution_count": 26,
   "id": "cb8169fd-9b58-476a-866b-65dfebbb09b0",
   "metadata": {},
   "outputs": [
    {
     "data": {
      "text/plain": [
       "array([1, 1, 1, 1, 1, 1, 1, 1, 0, 1, 1, 1, 1, 1, 1, 1, 1, 1, 1, 1, 1, 1,\n",
       "       1, 1, 1, 1, 1, 1, 1, 1, 1, 1, 1, 1, 1, 1, 1, 1, 1, 0, 1, 0, 1, 0,\n",
       "       0, 0, 1, 0, 0, 0, 0, 0, 0, 0, 0, 0, 0, 0, 0, 0, 0, 1, 0, 0, 0, 1,\n",
       "       1, 1, 1, 1, 1, 1, 1, 1, 1, 0, 1, 0, 0, 0, 0, 0, 0, 0, 0, 0, 0, 0,\n",
       "       0, 0, 0, 0, 0, 0, 1, 1, 1, 1, 1, 0])"
      ]
     },
     "execution_count": 26,
     "metadata": {},
     "output_type": "execute_result"
    }
   ],
   "source": [
    "from sklearn.metrics import precision_score\n",
    "\n",
    "preds = model.predict(test[predictors])\n",
    "preds"
   ]
  },
  {
   "cell_type": "code",
   "execution_count": 27,
   "id": "e5da6d1d-e9d8-410f-bddf-feab79f76112",
   "metadata": {},
   "outputs": [
    {
     "data": {
      "text/plain": [
       "Date\n",
       "2020-06-16    1\n",
       "2020-06-17    1\n",
       "2020-06-18    1\n",
       "2020-06-19    1\n",
       "2020-06-22    1\n",
       "             ..\n",
       "2020-10-29    1\n",
       "2020-10-30    1\n",
       "2020-11-02    1\n",
       "2020-11-03    1\n",
       "2020-11-04    0\n",
       "Length: 100, dtype: int64"
      ]
     },
     "execution_count": 27,
     "metadata": {},
     "output_type": "execute_result"
    }
   ],
   "source": [
    "preds = pd.Series(preds, index = test.index)\n",
    "preds"
   ]
  },
  {
   "cell_type": "code",
   "execution_count": 28,
   "id": "7514b521-42b7-4cea-9d9a-7d9211792822",
   "metadata": {},
   "outputs": [
    {
     "data": {
      "text/plain": [
       "0.6724137931034483"
      ]
     },
     "execution_count": 28,
     "metadata": {},
     "output_type": "execute_result"
    }
   ],
   "source": [
    "precision_score(test[\"Target\"],preds)"
   ]
  },
  {
   "cell_type": "code",
   "execution_count": 29,
   "id": "6d17eeef-41a9-44e4-997e-f70fc5e29a7a",
   "metadata": {},
   "outputs": [
    {
     "data": {
      "text/html": [
       "<div>\n",
       "<style scoped>\n",
       "    .dataframe tbody tr th:only-of-type {\n",
       "        vertical-align: middle;\n",
       "    }\n",
       "\n",
       "    .dataframe tbody tr th {\n",
       "        vertical-align: top;\n",
       "    }\n",
       "\n",
       "    .dataframe thead th {\n",
       "        text-align: right;\n",
       "    }\n",
       "</style>\n",
       "<table border=\"1\" class=\"dataframe\">\n",
       "  <thead>\n",
       "    <tr style=\"text-align: right;\">\n",
       "      <th></th>\n",
       "      <th>Target</th>\n",
       "      <th>0</th>\n",
       "    </tr>\n",
       "    <tr>\n",
       "      <th>Date</th>\n",
       "      <th></th>\n",
       "      <th></th>\n",
       "    </tr>\n",
       "  </thead>\n",
       "  <tbody>\n",
       "    <tr>\n",
       "      <th>2020-06-16</th>\n",
       "      <td>0</td>\n",
       "      <td>1</td>\n",
       "    </tr>\n",
       "    <tr>\n",
       "      <th>2020-06-17</th>\n",
       "      <td>1</td>\n",
       "      <td>1</td>\n",
       "    </tr>\n",
       "    <tr>\n",
       "      <th>2020-06-18</th>\n",
       "      <td>0</td>\n",
       "      <td>1</td>\n",
       "    </tr>\n",
       "    <tr>\n",
       "      <th>2020-06-19</th>\n",
       "      <td>1</td>\n",
       "      <td>1</td>\n",
       "    </tr>\n",
       "    <tr>\n",
       "      <th>2020-06-22</th>\n",
       "      <td>1</td>\n",
       "      <td>1</td>\n",
       "    </tr>\n",
       "    <tr>\n",
       "      <th>...</th>\n",
       "      <td>...</td>\n",
       "      <td>...</td>\n",
       "    </tr>\n",
       "    <tr>\n",
       "      <th>2020-10-29</th>\n",
       "      <td>0</td>\n",
       "      <td>1</td>\n",
       "    </tr>\n",
       "    <tr>\n",
       "      <th>2020-10-30</th>\n",
       "      <td>1</td>\n",
       "      <td>1</td>\n",
       "    </tr>\n",
       "    <tr>\n",
       "      <th>2020-11-02</th>\n",
       "      <td>1</td>\n",
       "      <td>1</td>\n",
       "    </tr>\n",
       "    <tr>\n",
       "      <th>2020-11-03</th>\n",
       "      <td>1</td>\n",
       "      <td>1</td>\n",
       "    </tr>\n",
       "    <tr>\n",
       "      <th>2020-11-04</th>\n",
       "      <td>0</td>\n",
       "      <td>0</td>\n",
       "    </tr>\n",
       "  </tbody>\n",
       "</table>\n",
       "<p>100 rows × 2 columns</p>\n",
       "</div>"
      ],
      "text/plain": [
       "            Target  0\n",
       "Date                 \n",
       "2020-06-16       0  1\n",
       "2020-06-17       1  1\n",
       "2020-06-18       0  1\n",
       "2020-06-19       1  1\n",
       "2020-06-22       1  1\n",
       "...            ... ..\n",
       "2020-10-29       0  1\n",
       "2020-10-30       1  1\n",
       "2020-11-02       1  1\n",
       "2020-11-03       1  1\n",
       "2020-11-04       0  0\n",
       "\n",
       "[100 rows x 2 columns]"
      ]
     },
     "execution_count": 29,
     "metadata": {},
     "output_type": "execute_result"
    }
   ],
   "source": [
    "combined = pd.concat([test[\"Target\"], preds], axis = 1)\n",
    "combined"
   ]
  },
  {
   "cell_type": "code",
   "execution_count": 30,
   "id": "b930406c-6d56-433c-9d44-660c7e9ce63b",
   "metadata": {},
   "outputs": [
    {
     "data": {
      "text/plain": [
       "<Axes: xlabel='Date'>"
      ]
     },
     "execution_count": 30,
     "metadata": {},
     "output_type": "execute_result"
    },
    {
     "data": {
      "image/png": "[encoded data removed]",
      "text/plain": [
       "<Figure size 640x480 with 1 Axes>"
      ]
     },
     "metadata": {},
     "output_type": "display_data"
    }
   ],
   "source": [
    "combined.plot()"
   ]
  },
  {
   "cell_type": "markdown",
   "id": "043135e5-1f41-4669-a8c3-c3a7687d35b3",
   "metadata": {},
   "source": [
    "We do backtesting for a better model for the reality. "
   ]
  },
  {
   "cell_type": "code",
   "execution_count": 31,
   "id": "f2c4fa64-e190-40f8-be8e-dfc2ce3d2f98",
   "metadata": {},
   "outputs": [],
   "source": [
    "#back testing \n",
    "def predict(train, test, predictors, model):\n",
    "    model.fit(train[predictors], train[\"Target\"])\n",
    "    preds = model.predict(test[predictors])\n",
    "    preds = pd.Series(preds, index = test.index, name = \"Predictions\")\n",
    "    combined = pd. concat([test[\"Target\"], preds], axis = 1)\n",
    "    return combined"
   ]
  },
  {
   "cell_type": "code",
   "execution_count": 32,
   "id": "da286c89-0aa6-44e7-867d-aa2d4e1b7f15",
   "metadata": {},
   "outputs": [],
   "source": [
    "def backtest(data, model, predictors, start = 2500, step = 100):\n",
    "    #take 10 years of data and train the model, train a model for a year then go on the next 10 years\n",
    "    all_predictions = []\n",
    "\n",
    "    for i in range(start, data.shape[0], step):\n",
    "        train = data.iloc[0:i].copy()\n",
    "        test = data.iloc[i:(i+step)].copy()\n",
    "        predictions = predict(train, test, predictors, model)\n",
    "        all_predictions.append(predictions)\n",
    "    return pd.concat(all_predictions)"
   ]
  },
  {
   "cell_type": "code",
   "execution_count": 33,
   "id": "b5b4d4bc-3efe-4a37-a3eb-9df9383719c2",
   "metadata": {},
   "outputs": [],
   "source": [
    "predictions = backtest(df1, model, predictors)\n"
   ]
  },
  {
   "cell_type": "code",
   "execution_count": 34,
   "id": "30cef7e5-3e21-4718-b4ba-ad944de2777a",
   "metadata": {},
   "outputs": [
    {
     "data": {
      "text/plain": [
       "Predictions\n",
       "1    2651\n",
       "0    2622\n",
       "Name: count, dtype: int64"
      ]
     },
     "execution_count": 34,
     "metadata": {},
     "output_type": "execute_result"
    }
   ],
   "source": [
    "predictions[\"Predictions\"].value_counts()\n",
    "\n"
   ]
  },
  {
   "cell_type": "code",
   "execution_count": 35,
   "id": "49f5bb80-248e-4946-8b03-2eb01fbd8a1a",
   "metadata": {},
   "outputs": [
    {
     "data": {
      "text/plain": [
       "0.5364013579781215"
      ]
     },
     "execution_count": 35,
     "metadata": {},
     "output_type": "execute_result"
    }
   ],
   "source": [
    "precision_score(predictions[\"Target\"], predictions[\"Predictions\"])"
   ]
  },
  {
   "cell_type": "code",
   "execution_count": 36,
   "id": "9312e0a0-56bc-4290-8993-4d34b1ff29b8",
   "metadata": {},
   "outputs": [
    {
     "data": {
      "text/plain": [
       "Target\n",
       "1    0.537265\n",
       "0    0.462735\n",
       "Name: count, dtype: float64"
      ]
     },
     "execution_count": 36,
     "metadata": {},
     "output_type": "execute_result"
    }
   ],
   "source": [
    "predictions[\"Target\"].value_counts() / predictions.shape[0]"
   ]
  },
  {
   "cell_type": "code",
   "execution_count": 37,
   "id": "56684817-3efa-4bd0-81bc-7461b18cb0a1",
   "metadata": {},
   "outputs": [],
   "source": [
    "horizons = [2,5, 60, 250, 1000]\n",
    "# calculate the mean close price of the last 2 days,the last trading week, the last 3 months, the last year\n",
    "#and the last 4 years. "
   ]
  },
  {
   "cell_type": "markdown",
   "id": "19d39905-f617-4b7a-be5d-cde52f908845",
   "metadata": {},
   "source": [
    "We give the model more information to make a better prediction."
   ]
  },
  {
   "cell_type": "code",
   "execution_count": 38,
   "id": "f744e0e0-4ed4-45dd-9998-3fe806e02386",
   "metadata": {},
   "outputs": [],
   "source": [
    "new_predictors = []\n",
    "for h in horizons :\n",
    "    roll_ave = df1.rolling(h).mean()\n",
    "    ratio = f\"Close_ratio_{h}\"\n",
    "    df1[ratio] = df1[\"Close\"]/roll_ave[\"Close\"] #the first loop is today close divide for the rolling average oflast 2 days and so on\n",
    "    trend = f\"Trend_{h}\"\n",
    "    df1[trend] = df1.shift(1).rolling(h).sum()[\"Target\"]\n",
    "    new_predictors += [ratio, trend]"
   ]
  },
  {
   "cell_type": "code",
   "execution_count": 39,
   "id": "26ea2c7f-e7f9-4c63-b3b0-456980c8a8f8",
   "metadata": {},
   "outputs": [
    {
     "data": {
      "text/html": [
       "<div>\n",
       "<style scoped>\n",
       "    .dataframe tbody tr th:only-of-type {\n",
       "        vertical-align: middle;\n",
       "    }\n",
       "\n",
       "    .dataframe tbody tr th {\n",
       "        vertical-align: top;\n",
       "    }\n",
       "\n",
       "    .dataframe thead th {\n",
       "        text-align: right;\n",
       "    }\n",
       "</style>\n",
       "<table border=\"1\" class=\"dataframe\">\n",
       "  <thead>\n",
       "    <tr style=\"text-align: right;\">\n",
       "      <th></th>\n",
       "      <th>Open</th>\n",
       "      <th>High</th>\n",
       "      <th>Low</th>\n",
       "      <th>Close</th>\n",
       "      <th>Adj Close</th>\n",
       "      <th>Volume</th>\n",
       "      <th>Tomorrow</th>\n",
       "      <th>Target</th>\n",
       "      <th>Close_ratio_2</th>\n",
       "      <th>Trend_2</th>\n",
       "      <th>Close_ratio_5</th>\n",
       "      <th>Trend_5</th>\n",
       "      <th>Close_ratio_60</th>\n",
       "      <th>Trend_60</th>\n",
       "      <th>Close_ratio_250</th>\n",
       "      <th>Trend_250</th>\n",
       "      <th>Close_ratio_1000</th>\n",
       "      <th>Trend_1000</th>\n",
       "    </tr>\n",
       "    <tr>\n",
       "      <th>Date</th>\n",
       "      <th></th>\n",
       "      <th></th>\n",
       "      <th></th>\n",
       "      <th></th>\n",
       "      <th></th>\n",
       "      <th></th>\n",
       "      <th></th>\n",
       "      <th></th>\n",
       "      <th></th>\n",
       "      <th></th>\n",
       "      <th></th>\n",
       "      <th></th>\n",
       "      <th></th>\n",
       "      <th></th>\n",
       "      <th></th>\n",
       "      <th></th>\n",
       "      <th></th>\n",
       "      <th></th>\n",
       "    </tr>\n",
       "  </thead>\n",
       "  <tbody>\n",
       "    <tr>\n",
       "      <th>1993-12-14</th>\n",
       "      <td>465.730011</td>\n",
       "      <td>466.119995</td>\n",
       "      <td>462.459991</td>\n",
       "      <td>463.059998</td>\n",
       "      <td>463.059998</td>\n",
       "      <td>275050000</td>\n",
       "      <td>461.839996</td>\n",
       "      <td>0</td>\n",
       "      <td>0.997157</td>\n",
       "      <td>1.0</td>\n",
       "      <td>0.996617</td>\n",
       "      <td>1.0</td>\n",
       "      <td>1.000283</td>\n",
       "      <td>32.0</td>\n",
       "      <td>1.028047</td>\n",
       "      <td>127.0</td>\n",
       "      <td>1.176082</td>\n",
       "      <td>512.0</td>\n",
       "    </tr>\n",
       "    <tr>\n",
       "      <th>1993-12-15</th>\n",
       "      <td>463.059998</td>\n",
       "      <td>463.690002</td>\n",
       "      <td>461.839996</td>\n",
       "      <td>461.839996</td>\n",
       "      <td>461.839996</td>\n",
       "      <td>331770000</td>\n",
       "      <td>463.339996</td>\n",
       "      <td>1</td>\n",
       "      <td>0.998681</td>\n",
       "      <td>0.0</td>\n",
       "      <td>0.995899</td>\n",
       "      <td>1.0</td>\n",
       "      <td>0.997329</td>\n",
       "      <td>32.0</td>\n",
       "      <td>1.025151</td>\n",
       "      <td>126.0</td>\n",
       "      <td>1.172676</td>\n",
       "      <td>512.0</td>\n",
       "    </tr>\n",
       "    <tr>\n",
       "      <th>1993-12-16</th>\n",
       "      <td>461.859985</td>\n",
       "      <td>463.980011</td>\n",
       "      <td>461.859985</td>\n",
       "      <td>463.339996</td>\n",
       "      <td>463.339996</td>\n",
       "      <td>284620000</td>\n",
       "      <td>466.380005</td>\n",
       "      <td>1</td>\n",
       "      <td>1.001621</td>\n",
       "      <td>1.0</td>\n",
       "      <td>0.999495</td>\n",
       "      <td>2.0</td>\n",
       "      <td>1.000311</td>\n",
       "      <td>32.0</td>\n",
       "      <td>1.028274</td>\n",
       "      <td>127.0</td>\n",
       "      <td>1.176163</td>\n",
       "      <td>513.0</td>\n",
       "    </tr>\n",
       "    <tr>\n",
       "      <th>1993-12-17</th>\n",
       "      <td>463.339996</td>\n",
       "      <td>466.380005</td>\n",
       "      <td>463.339996</td>\n",
       "      <td>466.380005</td>\n",
       "      <td>466.380005</td>\n",
       "      <td>363750000</td>\n",
       "      <td>465.850006</td>\n",
       "      <td>0</td>\n",
       "      <td>1.003270</td>\n",
       "      <td>2.0</td>\n",
       "      <td>1.004991</td>\n",
       "      <td>3.0</td>\n",
       "      <td>1.006561</td>\n",
       "      <td>32.0</td>\n",
       "      <td>1.034781</td>\n",
       "      <td>128.0</td>\n",
       "      <td>1.183537</td>\n",
       "      <td>514.0</td>\n",
       "    </tr>\n",
       "    <tr>\n",
       "      <th>1993-12-20</th>\n",
       "      <td>466.380005</td>\n",
       "      <td>466.899994</td>\n",
       "      <td>465.529999</td>\n",
       "      <td>465.850006</td>\n",
       "      <td>465.850006</td>\n",
       "      <td>255900000</td>\n",
       "      <td>465.299988</td>\n",
       "      <td>0</td>\n",
       "      <td>0.999431</td>\n",
       "      <td>1.0</td>\n",
       "      <td>1.003784</td>\n",
       "      <td>2.0</td>\n",
       "      <td>1.005120</td>\n",
       "      <td>32.0</td>\n",
       "      <td>1.033359</td>\n",
       "      <td>128.0</td>\n",
       "      <td>1.181856</td>\n",
       "      <td>513.0</td>\n",
       "    </tr>\n",
       "    <tr>\n",
       "      <th>...</th>\n",
       "      <td>...</td>\n",
       "      <td>...</td>\n",
       "      <td>...</td>\n",
       "      <td>...</td>\n",
       "      <td>...</td>\n",
       "      <td>...</td>\n",
       "      <td>...</td>\n",
       "      <td>...</td>\n",
       "      <td>...</td>\n",
       "      <td>...</td>\n",
       "      <td>...</td>\n",
       "      <td>...</td>\n",
       "      <td>...</td>\n",
       "      <td>...</td>\n",
       "      <td>...</td>\n",
       "      <td>...</td>\n",
       "      <td>...</td>\n",
       "      <td>...</td>\n",
       "    </tr>\n",
       "    <tr>\n",
       "      <th>2020-10-29</th>\n",
       "      <td>3277.169922</td>\n",
       "      <td>3341.050049</td>\n",
       "      <td>3259.820068</td>\n",
       "      <td>3310.110107</td>\n",
       "      <td>3310.110107</td>\n",
       "      <td>4903070000</td>\n",
       "      <td>3269.959961</td>\n",
       "      <td>0</td>\n",
       "      <td>1.005938</td>\n",
       "      <td>1.0</td>\n",
       "      <td>0.982918</td>\n",
       "      <td>2.0</td>\n",
       "      <td>0.973971</td>\n",
       "      <td>35.0</td>\n",
       "      <td>1.055097</td>\n",
       "      <td>148.0</td>\n",
       "      <td>1.192083</td>\n",
       "      <td>567.0</td>\n",
       "    </tr>\n",
       "    <tr>\n",
       "      <th>2020-10-30</th>\n",
       "      <td>3293.590088</td>\n",
       "      <td>3304.929932</td>\n",
       "      <td>3233.939941</td>\n",
       "      <td>3269.959961</td>\n",
       "      <td>3269.959961</td>\n",
       "      <td>4840450000</td>\n",
       "      <td>3310.239990</td>\n",
       "      <td>1</td>\n",
       "      <td>0.993898</td>\n",
       "      <td>1.0</td>\n",
       "      <td>0.982398</td>\n",
       "      <td>1.0</td>\n",
       "      <td>0.962531</td>\n",
       "      <td>34.0</td>\n",
       "      <td>1.042045</td>\n",
       "      <td>147.0</td>\n",
       "      <td>1.177155</td>\n",
       "      <td>566.0</td>\n",
       "    </tr>\n",
       "    <tr>\n",
       "      <th>2020-11-02</th>\n",
       "      <td>3296.199951</td>\n",
       "      <td>3330.139893</td>\n",
       "      <td>3279.739990</td>\n",
       "      <td>3310.239990</td>\n",
       "      <td>3310.239990</td>\n",
       "      <td>4310590000</td>\n",
       "      <td>3369.159912</td>\n",
       "      <td>1</td>\n",
       "      <td>1.006121</td>\n",
       "      <td>1.0</td>\n",
       "      <td>0.999950</td>\n",
       "      <td>2.0</td>\n",
       "      <td>0.974584</td>\n",
       "      <td>34.0</td>\n",
       "      <td>1.054564</td>\n",
       "      <td>148.0</td>\n",
       "      <td>1.191165</td>\n",
       "      <td>566.0</td>\n",
       "    </tr>\n",
       "    <tr>\n",
       "      <th>2020-11-03</th>\n",
       "      <td>3336.250000</td>\n",
       "      <td>3389.489990</td>\n",
       "      <td>3336.250000</td>\n",
       "      <td>3369.159912</td>\n",
       "      <td>3369.159912</td>\n",
       "      <td>4220070000</td>\n",
       "      <td>3443.439941</td>\n",
       "      <td>1</td>\n",
       "      <td>1.008821</td>\n",
       "      <td>2.0</td>\n",
       "      <td>1.019074</td>\n",
       "      <td>3.0</td>\n",
       "      <td>0.991888</td>\n",
       "      <td>34.0</td>\n",
       "      <td>1.072935</td>\n",
       "      <td>148.0</td>\n",
       "      <td>1.211842</td>\n",
       "      <td>567.0</td>\n",
       "    </tr>\n",
       "    <tr>\n",
       "      <th>2020-11-04</th>\n",
       "      <td>3406.459961</td>\n",
       "      <td>3486.250000</td>\n",
       "      <td>3405.169922</td>\n",
       "      <td>3443.439941</td>\n",
       "      <td>3443.439941</td>\n",
       "      <td>4783040000</td>\n",
       "      <td>NaN</td>\n",
       "      <td>0</td>\n",
       "      <td>1.010903</td>\n",
       "      <td>2.0</td>\n",
       "      <td>1.030790</td>\n",
       "      <td>4.0</td>\n",
       "      <td>1.013211</td>\n",
       "      <td>35.0</td>\n",
       "      <td>1.096090</td>\n",
       "      <td>148.0</td>\n",
       "      <td>1.237990</td>\n",
       "      <td>568.0</td>\n",
       "    </tr>\n",
       "  </tbody>\n",
       "</table>\n",
       "<p>6773 rows × 18 columns</p>\n",
       "</div>"
      ],
      "text/plain": [
       "                   Open         High          Low        Close    Adj Close  \\\n",
       "Date                                                                          \n",
       "1993-12-14   465.730011   466.119995   462.459991   463.059998   463.059998   \n",
       "1993-12-15   463.059998   463.690002   461.839996   461.839996   461.839996   \n",
       "1993-12-16   461.859985   463.980011   461.859985   463.339996   463.339996   \n",
       "1993-12-17   463.339996   466.380005   463.339996   466.380005   466.380005   \n",
       "1993-12-20   466.380005   466.899994   465.529999   465.850006   465.850006   \n",
       "...                 ...          ...          ...          ...          ...   \n",
       "2020-10-29  3277.169922  3341.050049  3259.820068  3310.110107  3310.110107   \n",
       "2020-10-30  3293.590088  3304.929932  3233.939941  3269.959961  3269.959961   \n",
       "2020-11-02  3296.199951  3330.139893  3279.739990  3310.239990  3310.239990   \n",
       "2020-11-03  3336.250000  3389.489990  3336.250000  3369.159912  3369.159912   \n",
       "2020-11-04  3406.459961  3486.250000  3405.169922  3443.439941  3443.439941   \n",
       "\n",
       "                Volume     Tomorrow  Target  Close_ratio_2  Trend_2  \\\n",
       "Date                                                                  \n",
       "1993-12-14   275050000   461.839996       0       0.997157      1.0   \n",
       "1993-12-15   331770000   463.339996       1       0.998681      0.0   \n",
       "1993-12-16   284620000   466.380005       1       1.001621      1.0   \n",
       "1993-12-17   363750000   465.850006       0       1.003270      2.0   \n",
       "1993-12-20   255900000   465.299988       0       0.999431      1.0   \n",
       "...                ...          ...     ...            ...      ...   \n",
       "2020-10-29  4903070000  3269.959961       0       1.005938      1.0   \n",
       "2020-10-30  4840450000  3310.239990       1       0.993898      1.0   \n",
       "2020-11-02  4310590000  3369.159912       1       1.006121      1.0   \n",
       "2020-11-03  4220070000  3443.439941       1       1.008821      2.0   \n",
       "2020-11-04  4783040000          NaN       0       1.010903      2.0   \n",
       "\n",
       "            Close_ratio_5  Trend_5  Close_ratio_60  Trend_60  Close_ratio_250  \\\n",
       "Date                                                                            \n",
       "1993-12-14       0.996617      1.0        1.000283      32.0         1.028047   \n",
       "1993-12-15       0.995899      1.0        0.997329      32.0         1.025151   \n",
       "1993-12-16       0.999495      2.0        1.000311      32.0         1.028274   \n",
       "1993-12-17       1.004991      3.0        1.006561      32.0         1.034781   \n",
       "1993-12-20       1.003784      2.0        1.005120      32.0         1.033359   \n",
       "...                   ...      ...             ...       ...              ...   \n",
       "2020-10-29       0.982918      2.0        0.973971      35.0         1.055097   \n",
       "2020-10-30       0.982398      1.0        0.962531      34.0         1.042045   \n",
       "2020-11-02       0.999950      2.0        0.974584      34.0         1.054564   \n",
       "2020-11-03       1.019074      3.0        0.991888      34.0         1.072935   \n",
       "2020-11-04       1.030790      4.0        1.013211      35.0         1.096090   \n",
       "\n",
       "            Trend_250  Close_ratio_1000  Trend_1000  \n",
       "Date                                                 \n",
       "1993-12-14      127.0          1.176082       512.0  \n",
       "1993-12-15      126.0          1.172676       512.0  \n",
       "1993-12-16      127.0          1.176163       513.0  \n",
       "1993-12-17      128.0          1.183537       514.0  \n",
       "1993-12-20      128.0          1.181856       513.0  \n",
       "...               ...               ...         ...  \n",
       "2020-10-29      148.0          1.192083       567.0  \n",
       "2020-10-30      147.0          1.177155       566.0  \n",
       "2020-11-02      148.0          1.191165       566.0  \n",
       "2020-11-03      148.0          1.211842       567.0  \n",
       "2020-11-04      148.0          1.237990       568.0  \n",
       "\n",
       "[6773 rows x 18 columns]"
      ]
     },
     "execution_count": 39,
     "metadata": {},
     "output_type": "execute_result"
    }
   ],
   "source": [
    "df1 = df1.dropna(subset = df1.columns[df1.columns != \"Tomorrow\"])\n",
    "df1"
   ]
  },
  {
   "cell_type": "code",
   "execution_count": 44,
   "id": "0617d2c1-31e7-4164-a310-1feae907bed4",
   "metadata": {},
   "outputs": [],
   "source": [
    "model = RandomForestClassifier(n_estimators = 500, min_samples_split = 50, random_state = 1) "
   ]
  },
  {
   "cell_type": "markdown",
   "id": "33810dcc-3ce0-46fc-b3a6-4ef3b6bef9d9",
   "metadata": {},
   "source": [
    "rewrite the predict function by returning the probability of stock price goes up"
   ]
  },
  {
   "cell_type": "code",
   "execution_count": 46,
   "id": "b7b397b2-5a78-40dd-9155-ffc0f1837cbb",
   "metadata": {},
   "outputs": [],
   "source": [
    "def predict(train, test, predictors, model):\n",
    "    model.fit(train[predictors], train[\"Target\"])\n",
    "    preds = model.predict_proba(test[predictors])[:,1]\n",
    "    preds[preds >= .6] = 1 #the price has to go >=60% to predict the price goes up\n",
    "    preds[preds < .6] = 0\n",
    "    preds = pd.Series(preds, index = test.index, name = \"predictions\")\n",
    "    combined = pd.concat([test[\"Target\"], preds], axis = 1)\n",
    "    return combined"
   ]
  },
  {
   "cell_type": "code",
   "execution_count": 47,
   "id": "df4a6ed1-3a3e-445c-8abc-35239faf5682",
   "metadata": {},
   "outputs": [
    {
     "data": {
      "text/plain": [
       "predictions\n",
       "0.0    3508\n",
       "1.0     765\n",
       "Name: count, dtype: int64"
      ]
     },
     "execution_count": 47,
     "metadata": {},
     "output_type": "execute_result"
    }
   ],
   "source": [
    "predictions = backtest(df1, model, new_predictors)\n",
    "predictions[\"predictions\"].value_counts()"
   ]
  },
  {
   "cell_type": "code",
   "execution_count": 48,
   "id": "70bc5a55-0d34-482b-aa3d-3ce246c905ec",
   "metadata": {},
   "outputs": [
    {
     "data": {
      "text/plain": [
       "0.5725490196078431"
      ]
     },
     "execution_count": 48,
     "metadata": {},
     "output_type": "execute_result"
    }
   ],
   "source": [
    "precision_score(predictions[\"Target\"], predictions[\"predictions\"])"
   ]
  },
  {
   "cell_type": "markdown",
   "id": "db0f1dff-fecb-45df-bf06-a4596c59bb04",
   "metadata": {},
   "source": [
    "The accuracy score is low but this is what we want in the real world."
   ]
  },
  {
   "cell_type": "code",
   "execution_count": 49,
   "id": "b607db25-e290-437d-8321-8881cb9ca78e",
   "metadata": {},
   "outputs": [
    {
     "data": {
      "text/plain": [
       "Target\n",
       "1    0.549497\n",
       "0    0.450503\n",
       "Name: count, dtype: float64"
      ]
     },
     "execution_count": 49,
     "metadata": {},
     "output_type": "execute_result"
    }
   ],
   "source": [
    "predictions[\"Target\"].value_counts()/predictions.shape[0]"
   ]
  },
  {
   "cell_type": "code",
   "execution_count": 50,
   "id": "1d5f4399-ef1b-4a5b-855c-b03774aa1e79",
   "metadata": {},
   "outputs": [
    {
     "data": {
      "text/html": [
       "<div>\n",
       "<style scoped>\n",
       "    .dataframe tbody tr th:only-of-type {\n",
       "        vertical-align: middle;\n",
       "    }\n",
       "\n",
       "    .dataframe tbody tr th {\n",
       "        vertical-align: top;\n",
       "    }\n",
       "\n",
       "    .dataframe thead th {\n",
       "        text-align: right;\n",
       "    }\n",
       "</style>\n",
       "<table border=\"1\" class=\"dataframe\">\n",
       "  <thead>\n",
       "    <tr style=\"text-align: right;\">\n",
       "      <th></th>\n",
       "      <th>Target</th>\n",
       "      <th>predictions</th>\n",
       "    </tr>\n",
       "    <tr>\n",
       "      <th>Date</th>\n",
       "      <th></th>\n",
       "      <th></th>\n",
       "    </tr>\n",
       "  </thead>\n",
       "  <tbody>\n",
       "    <tr>\n",
       "      <th>2003-11-14</th>\n",
       "      <td>0</td>\n",
       "      <td>0.0</td>\n",
       "    </tr>\n",
       "    <tr>\n",
       "      <th>2003-11-17</th>\n",
       "      <td>0</td>\n",
       "      <td>1.0</td>\n",
       "    </tr>\n",
       "    <tr>\n",
       "      <th>2003-11-18</th>\n",
       "      <td>1</td>\n",
       "      <td>1.0</td>\n",
       "    </tr>\n",
       "    <tr>\n",
       "      <th>2003-11-19</th>\n",
       "      <td>0</td>\n",
       "      <td>0.0</td>\n",
       "    </tr>\n",
       "    <tr>\n",
       "      <th>2003-11-20</th>\n",
       "      <td>1</td>\n",
       "      <td>1.0</td>\n",
       "    </tr>\n",
       "    <tr>\n",
       "      <th>...</th>\n",
       "      <td>...</td>\n",
       "      <td>...</td>\n",
       "    </tr>\n",
       "    <tr>\n",
       "      <th>2020-10-29</th>\n",
       "      <td>0</td>\n",
       "      <td>0.0</td>\n",
       "    </tr>\n",
       "    <tr>\n",
       "      <th>2020-10-30</th>\n",
       "      <td>1</td>\n",
       "      <td>0.0</td>\n",
       "    </tr>\n",
       "    <tr>\n",
       "      <th>2020-11-02</th>\n",
       "      <td>1</td>\n",
       "      <td>0.0</td>\n",
       "    </tr>\n",
       "    <tr>\n",
       "      <th>2020-11-03</th>\n",
       "      <td>1</td>\n",
       "      <td>0.0</td>\n",
       "    </tr>\n",
       "    <tr>\n",
       "      <th>2020-11-04</th>\n",
       "      <td>0</td>\n",
       "      <td>0.0</td>\n",
       "    </tr>\n",
       "  </tbody>\n",
       "</table>\n",
       "<p>4273 rows × 2 columns</p>\n",
       "</div>"
      ],
      "text/plain": [
       "            Target  predictions\n",
       "Date                           \n",
       "2003-11-14       0          0.0\n",
       "2003-11-17       0          1.0\n",
       "2003-11-18       1          1.0\n",
       "2003-11-19       0          0.0\n",
       "2003-11-20       1          1.0\n",
       "...            ...          ...\n",
       "2020-10-29       0          0.0\n",
       "2020-10-30       1          0.0\n",
       "2020-11-02       1          0.0\n",
       "2020-11-03       1          0.0\n",
       "2020-11-04       0          0.0\n",
       "\n",
       "[4273 rows x 2 columns]"
      ]
     },
     "execution_count": 50,
     "metadata": {},
     "output_type": "execute_result"
    }
   ],
   "source": [
    "predictions"
   ]
  },
  {
   "cell_type": "code",
   "execution_count": 51,
   "id": "73bb7382-5db2-4495-bdeb-2207d7915753",
   "metadata": {
    "scrolled": true
   },
   "outputs": [
    {
     "data": {
      "text/plain": [
       "<Axes: xlabel='Date'>"
      ]
     },
     "execution_count": 51,
     "metadata": {},
     "output_type": "execute_result"
    },
    {
     "data": {
      "image/png": "[encoded data removed]",
      "text/plain": [
       "<Figure size 640x480 with 1 Axes>"
      ]
     },
     "metadata": {},
     "output_type": "display_data"
    }
   ],
   "source": [
    "predictions.plot()"
   ]
  },
  {
   "cell_type": "markdown",
   "id": "eff7513d-b4d0-4c0c-bf20-b2c6ef93c9c0",
   "metadata": {},
   "source": [
    "Now we will use linear regression model to predict."
   ]
  },
  {
   "cell_type": "code",
   "execution_count": 55,
   "id": "afa1f863-c648-4bb0-b439-014222ac6be4",
   "metadata": {},
   "outputs": [],
   "source": [
    "#using linear Regression\n",
    "x = df1[['Open', 'High', 'Low', 'Volume']]\n",
    "y = df1['Close']"
   ]
  },
  {
   "cell_type": "code",
   "execution_count": 58,
   "id": "6ba07a53-46a7-4b04-b775-b95da22835d4",
   "metadata": {},
   "outputs": [],
   "source": [
    "from sklearn.model_selection import train_test_split\n",
    "train_x, test_x, train_y, test_y = train_test_split(x, y, test_size = 0.15, shuffle = False, random_state = 0)"
   ]
  },
  {
   "cell_type": "code",
   "execution_count": 59,
   "id": "2306b2e9-f63a-4d1a-a493-663bb87d6b1e",
   "metadata": {},
   "outputs": [
    {
     "name": "stdout",
     "output_type": "stream",
     "text": [
      "(5757, 4)\n",
      "(1016, 4)\n",
      "(5757,)\n",
      "(1016,)\n"
     ]
    }
   ],
   "source": [
    "#check the observation\n",
    "print(train_x.shape)\n",
    "print(test_x.shape)\n",
    "print(train_y.shape)\n",
    "print(test_y.shape)"
   ]
  },
  {
   "cell_type": "code",
   "execution_count": 66,
   "id": "d4318098-45c9-419d-a8f7-2daaec5de1be",
   "metadata": {},
   "outputs": [
    {
     "name": "stdout",
     "output_type": "stream",
     "text": [
      "regression coefficient [-6.71137415e-01  8.91380023e-01  7.79671301e-01 -5.31622224e-12]\n",
      "regression intercept -0.055189047312069306\n"
     ]
    }
   ],
   "source": [
    "from sklearn.linear_model import LinearRegression\n",
    "from sklearn.metrics import confusion_matrix, accuracy_score, mean_absolute_error, mean_squared_error\n",
    "regression = LinearRegression()\n",
    "regression.fit(train_x, train_y)\n",
    "print(\"regression coefficient\", regression.coef_)\n",
    "print(\"regression intercept\", regression.intercept_)"
   ]
  },
  {
   "cell_type": "code",
   "execution_count": 67,
   "id": "f632a0a3-3c49-41ee-add6-65091b4d6b75",
   "metadata": {},
   "outputs": [
    {
     "data": {
      "text/plain": [
       "0.9988465312778699"
      ]
     },
     "execution_count": 67,
     "metadata": {},
     "output_type": "execute_result"
    }
   ],
   "source": [
    "regression_score = regression.score(test_x, test_y)\n",
    "regression_score"
   ]
  },
  {
   "cell_type": "code",
   "execution_count": 68,
   "id": "5e1e2661-023d-4972-a507-be9b2beafb0f",
   "metadata": {},
   "outputs": [],
   "source": [
    "predicted = regression.predict(test_x)\n"
   ]
  },
  {
   "cell_type": "code",
   "execution_count": 69,
   "id": "59bccb15-2287-4786-834f-db6a5cf89c60",
   "metadata": {},
   "outputs": [
    {
     "data": {
      "text/html": [
       "<div>\n",
       "<style scoped>\n",
       "    .dataframe tbody tr th:only-of-type {\n",
       "        vertical-align: middle;\n",
       "    }\n",
       "\n",
       "    .dataframe tbody tr th {\n",
       "        vertical-align: top;\n",
       "    }\n",
       "\n",
       "    .dataframe thead th {\n",
       "        text-align: right;\n",
       "    }\n",
       "</style>\n",
       "<table border=\"1\" class=\"dataframe\">\n",
       "  <thead>\n",
       "    <tr style=\"text-align: right;\">\n",
       "      <th></th>\n",
       "      <th>Actual_Price</th>\n",
       "      <th>Predicted_Price</th>\n",
       "    </tr>\n",
       "    <tr>\n",
       "      <th>Date</th>\n",
       "      <th></th>\n",
       "      <th></th>\n",
       "    </tr>\n",
       "  </thead>\n",
       "  <tbody>\n",
       "    <tr>\n",
       "      <th>2016-10-24</th>\n",
       "      <td>2151.330078</td>\n",
       "      <td>2152.609066</td>\n",
       "    </tr>\n",
       "    <tr>\n",
       "      <th>2016-10-25</th>\n",
       "      <td>2143.159912</td>\n",
       "      <td>2144.919245</td>\n",
       "    </tr>\n",
       "    <tr>\n",
       "      <th>2016-10-26</th>\n",
       "      <td>2139.429932</td>\n",
       "      <td>2140.324696</td>\n",
       "    </tr>\n",
       "    <tr>\n",
       "      <th>2016-10-27</th>\n",
       "      <td>2133.040039</td>\n",
       "      <td>2137.536875</td>\n",
       "    </tr>\n",
       "    <tr>\n",
       "      <th>2016-10-28</th>\n",
       "      <td>2126.409912</td>\n",
       "      <td>2129.503395</td>\n",
       "    </tr>\n",
       "    <tr>\n",
       "      <th>...</th>\n",
       "      <td>...</td>\n",
       "      <td>...</td>\n",
       "    </tr>\n",
       "    <tr>\n",
       "      <th>2020-10-29</th>\n",
       "      <td>3310.110107</td>\n",
       "      <td>3320.220819</td>\n",
       "    </tr>\n",
       "    <tr>\n",
       "      <th>2020-10-30</th>\n",
       "      <td>3269.959961</td>\n",
       "      <td>3256.826221</td>\n",
       "    </tr>\n",
       "    <tr>\n",
       "      <th>2020-11-02</th>\n",
       "      <td>3310.239990</td>\n",
       "      <td>3313.258101</td>\n",
       "    </tr>\n",
       "    <tr>\n",
       "      <th>2020-11-03</th>\n",
       "      <td>3369.159912</td>\n",
       "      <td>3383.342220</td>\n",
       "    </tr>\n",
       "    <tr>\n",
       "      <th>2020-11-04</th>\n",
       "      <td>3443.439941</td>\n",
       "      <td>3476.203520</td>\n",
       "    </tr>\n",
       "  </tbody>\n",
       "</table>\n",
       "<p>1016 rows × 2 columns</p>\n",
       "</div>"
      ],
      "text/plain": [
       "            Actual_Price  Predicted_Price\n",
       "Date                                     \n",
       "2016-10-24   2151.330078      2152.609066\n",
       "2016-10-25   2143.159912      2144.919245\n",
       "2016-10-26   2139.429932      2140.324696\n",
       "2016-10-27   2133.040039      2137.536875\n",
       "2016-10-28   2126.409912      2129.503395\n",
       "...                  ...              ...\n",
       "2020-10-29   3310.110107      3320.220819\n",
       "2020-10-30   3269.959961      3256.826221\n",
       "2020-11-02   3310.239990      3313.258101\n",
       "2020-11-03   3369.159912      3383.342220\n",
       "2020-11-04   3443.439941      3476.203520\n",
       "\n",
       "[1016 rows x 2 columns]"
      ]
     },
     "execution_count": 69,
     "metadata": {},
     "output_type": "execute_result"
    }
   ],
   "source": [
    "compare = pd.DataFrame({'Actual_Price': test_y, \"Predicted_Price\": predicted})\n",
    "compare"
   ]
  },
  {
   "cell_type": "code",
   "execution_count": 70,
   "id": "18874a18-117b-405c-8bca-2425b6b69e21",
   "metadata": {},
   "outputs": [
    {
     "data": {
      "text/plain": [
       "<Axes: xlabel='Date'>"
      ]
     },
     "execution_count": 70,
     "metadata": {},
     "output_type": "execute_result"
    },
    {
     "data": {
      "image/png": "[encoded data removed]",
      "text/plain": [
       "<Figure size 640x480 with 1 Axes>"
      ]
     },
     "metadata": {},
     "output_type": "display_data"
    }
   ],
   "source": [
    "compare.plot()"
   ]
  },
  {
   "cell_type": "code",
   "execution_count": 73,
   "id": "13c41321-191c-4f16-b785-519df51d94ae",
   "metadata": {},
   "outputs": [
    {
     "name": "stdout",
     "output_type": "stream",
     "text": [
      "MAE: 6.7636425941270435\n",
      "MSE: 118.8326772960075\n",
      "RMSE:  10.901040193303\n"
     ]
    }
   ],
   "source": [
    "print('MAE:',mean_absolute_error(test_y, predicted))\n",
    "print('MSE:', mean_squared_error(test_y, predicted))\n",
    "print('RMSE: ', np.sqrt(mean_squared_error(test_y, predicted)))"
   ]
  },
  {
   "cell_type": "code",
   "execution_count": 74,
   "id": "34f197c9-303d-46d9-a017-9b8fc7473a5d",
   "metadata": {},
   "outputs": [
    {
     "data": {
      "text/plain": [
       "100.00502380238379"
      ]
     },
     "execution_count": 74,
     "metadata": {},
     "output_type": "execute_result"
    }
   ],
   "source": [
    "#model accuracy:\n",
    "x2 = compare.Actual_Price.mean()\n",
    "y2 = compare.Predicted_Price.mean()\n",
    "lin_accuracy = x2/y2*100\n",
    "lin_accuracy"
   ]
  },
  {
   "cell_type": "markdown",
   "id": "c6b023ca-d8ed-4ae9-99f6-f9b497c257fb",
   "metadata": {},
   "source": [
    "The accuraccy of linear regression is higher compare to random forest but this is not what we need in reality."
   ]
  }
 ],
 "metadata": {
  "kernelspec": {
   "display_name": "Python 3 (ipykernel)",
   "language": "python",
   "name": "python3"
  },
  "language_info": {
   "codemirror_mode": {
    "name": "ipython",
    "version": 3
   },
   "file_extension": ".py",
   "mimetype": "text/x-python",
   "name": "python",
   "nbconvert_exporter": "python",
   "pygments_lexer": "ipython3",
   "version": "3.11.4"
  }
 },
 "nbformat": 4,
 "nbformat_minor": 5
}
